{
 "cells": [
  {
   "cell_type": "code",
   "execution_count": 1,
   "id": "a4cdcc3a",
   "metadata": {},
   "outputs": [
    {
     "name": "stderr",
     "output_type": "stream",
     "text": [
      "/home/rosa/.local/lib/python3.10/site-packages/anaconda3/envs/cgt-project-example/lib/python3.8/site-packages/pycolab/ascii_art.py:318: FutureWarning: arrays to stack must be passed as a \"sequence\" type such as list or tuple. Support for non-sequence iterables such as generators is deprecated as of NumPy 1.16 and will raise an error in the future.\n",
      "  art = np.vstack(np.fromstring(line, dtype=np.uint8) for line in art)\n"
     ]
    }
   ],
   "source": [
    "import numpy as np\n",
    "import environment\n",
    "import model\n",
    "\n",
    "n_agents = 2\n",
    "env = environment.CommonPoolEnv(model.DEFAULT_MAP, n_agents)\n",
    "observations, *_ = env.reset()\n",
    "observation = observations[0]"
   ]
  },
  {
   "cell_type": "markdown",
   "id": "bf41894d-3da2-409b-a5e1-321161f05ede",
   "metadata": {},
   "source": [
    "1) EXPERIENCE REPLAY:\n",
    "   randomizes over the data, thereby removing correlations in the observation sequence and smoothing over changes in the data distribution\n",
    "2) Iterative update:\n",
    "   adjust tge action-values (Q) towards target values that are only periodically updated, thereby reducing the correlations with the target\n",
    "   Dit betekend dat de target DQN pas om de zoveel iteraties wordt geupdate. Het training DQN elke keer (zo neem ik het aan)"
   ]
  },
  {
   "cell_type": "code",
   "execution_count": 4,
   "id": "6279b06a-ddf2-4e30-be2b-07fe4f5cef20",
   "metadata": {},
   "outputs": [
    {
     "name": "stdout",
     "output_type": "stream",
     "text": [
      "cpu\n"
     ]
    }
   ],
   "source": [
    "import math\n",
    "import random\n",
    "import matplotlib\n",
    "import matplotlib.pyplot as plt\n",
    "from collections import namedtuple, deque\n",
    "from itertools import count\n",
    "\n",
    "import torch\n",
    "import torch.nn as nn\n",
    "import torch.optim as optim\n",
    "import torch.nn.functional as F\n",
    "\n",
    "# if GPU is to be used\n",
    "device = torch.device(\"cuda\" if torch.cuda.is_available() else \"cpu\")"
   ]
  },
  {
   "cell_type": "markdown",
   "id": "77237217-e3ea-4e11-92b3-31a42bb4ba77",
   "metadata": {},
   "source": [
    "Ben aan de hand hiervan beginnen proberen\n",
    "https://pytorch.org/tutorials/intermediate/reinforcement_q_learning.html"
   ]
  },
  {
   "cell_type": "code",
   "execution_count": 5,
   "id": "5f1d8315-e54d-49c3-9de1-13413253cb1e",
   "metadata": {},
   "outputs": [],
   "source": [
    "Transition = namedtuple('Transition',\n",
    "                        ('state', 'action', 'next_state', 'reward'))\n",
    "\n",
    "class ReplayMemory(object):\n",
    "\n",
    "    def __init__(self, capacity, minibatch_size=32):\n",
    "        self.memory = deque([], maxlen=capacity)\n",
    "\n",
    "    def push(self, *args):\n",
    "        \"\"\"Save a transition\"\"\"\n",
    "        self.memory.append(Transition(*args))\n",
    "        self._index = (self._index + 1)\n",
    "\n",
    "    def sample(self, batch_size):\n",
    "        return random.sample(self.memory, batch_size)\n",
    "\n",
    "    def __len__(self):\n",
    "        return len(self.memory)\n",
    "\n",
    "    def current_index(self):\n",
    "            return self._index\n",
    "\n",
    "    def get_minibatch_indices(self):\n",
    "            indices = []\n",
    "            while len(indices) < minibatch_size:\n",
    "                index = np.random.randint(low=0, high = self.current_index, dtype=np.int32)\n",
    "                indices.append(index)\n",
    "\n",
    "    def generate_minibatch_samples(self, indices):\n",
    "        state_batch, action_batch, next_state_batch, reward_batch = [], [], [], []\n",
    "    \n",
    "        for index in indices:\n",
    "            selected_mem = self._memory[index]\n",
    "            state_batch.append(torch.tensor(selected_mem.state, dtype=torch.float32))\n",
    "            action_batch.append(torch.tensor(selected_mem.action, dtype=torch.int32))\n",
    "            next_state_batch.append(torch.tensor(selected_mem.next_state, dtype=torch.float32))\n",
    "            reward_batch.append(torch.tensor(selected_mem.reward, dtype=torch.float32))\n",
    "            \n",
    "        return torch.stack(state_batch, dim=0), torch.stack(action_batch, dim=0), torch.stack(next_state_batch, dim=0), torch.stack(reward_batch, dim=0)\n",
    "\n",
    "        \n",
    "                "
   ]
  },
  {
   "cell_type": "markdown",
   "id": "02113e83-3d75-423a-bbc2-87b11cc6d946",
   "metadata": {},
   "source": [
    "Hier beetje aan het prutsen geweest met CNN, maar wou nu eerst DQN te laten werken door gewoon te flatten en zo te trainen"
   ]
  },
  {
   "cell_type": "code",
   "execution_count": 6,
   "id": "ab7afbe9-4607-44c6-aca3-5b0df1d117b8",
   "metadata": {},
   "outputs": [
    {
     "data": {
      "text/plain": [
       "1256.0"
      ]
     },
     "execution_count": 6,
     "metadata": {},
     "output_type": "execute_result"
    }
   ],
   "source": [
    "input_size = 3 * environment.OBSERVE_WIDTH_VIEW * environment.OBSERVE_FRONT_VIEW\n",
    "kernel_size = 5\n",
    "stride = 1\n",
    "padding = 0\n",
    "output_size = ((input_size - kernel_size + 2 * padding) / stride) + 1\n",
    "output_size"
   ]
  },
  {
   "cell_type": "code",
   "execution_count": 7,
   "id": "48591f1e-125e-4479-8eba-00a286074969",
   "metadata": {},
   "outputs": [
    {
     "data": {
      "text/plain": [
       "1252.0"
      ]
     },
     "execution_count": 7,
     "metadata": {},
     "output_type": "execute_result"
    }
   ],
   "source": [
    "input_size = output_size\n",
    "kernel_size = 5\n",
    "stride = 1\n",
    "padding = 0\n",
    "output_size = ((input_size - kernel_size + 2 * padding) / stride) + 1\n",
    "output_size"
   ]
  },
  {
   "cell_type": "code",
   "execution_count": 4,
   "id": "f9a95fe6-351c-45e1-8464-2d453cdcd650",
   "metadata": {},
   "outputs": [],
   "source": [
    "class CnnDQN(nn.Module):\n",
    "    def __init__(self, input_size, hidden_size=32, output_size=model.N_ACTIONS):\n",
    "        super(DQN, self).__init__()\n",
    "\n",
    "        \n",
    "        self.conv1 = nn.Conv2d(3, 32, kernel_size=5, stride=1)\n",
    "        self.conv2 = nn.Conv2d(32, 64, kernel_size=5, stride=1)\n",
    "        \n",
    "        self.layer1 = nn.Linear(412, hidden_size)    # Input Layer\n",
    "        self.layer2 = nn.Linear(hidden_size, hidden_size)   # Hidden layer 1\n",
    "        self.layer3 = nn.Linear(hidden_size, hidden_size)   # Hidden Layer 2\n",
    "        self.layer4 = nn.Linear(hidden_size, output_size)   # Output Layer\n",
    "\n",
    "    def forward(self, x):\n",
    "        x = F.relu(self.layer1(x))\n",
    "        x = F.relu(self.layer2(x))\n",
    "        x = F.relu(self.layer3(x))\n",
    "        return self.layer4(x)\n"
   ]
  },
  {
   "cell_type": "code",
   "execution_count": 8,
   "id": "2bce7247-143b-4047-a8b3-b980a53dc944",
   "metadata": {},
   "outputs": [],
   "source": [
    "# DQN zoals in onze paper staat\n",
    "\n",
    "class DQN(nn.Module):\n",
    "    def __init__(self, input_size, hidden_size=32, output_size=model.N_ACTIONS):\n",
    "        super(DQN, self).__init__()\n",
    "        \n",
    "        self.layer1 = nn.Linear(input_size, hidden_size)    # Input Layer\n",
    "        self.layer2 = nn.Linear(hidden_size, hidden_size)   # Hidden layer 1\n",
    "        self.layer3 = nn.Linear(hidden_size, hidden_size)   # Hidden Layer 2\n",
    "        self.layer4 = nn.Linear(hidden_size, output_size)   # Output Layer\n",
    "\n",
    "    def forward(self, x):\n",
    "        x = F.relu(self.layer1(x))\n",
    "        x = F.relu(self.layer2(x))\n",
    "        x = F.relu(self.layer3(x))\n",
    "        return self.layer4(x)\n"
   ]
  },
  {
   "cell_type": "code",
   "execution_count": 28,
   "id": "e19fe354-d48f-490f-82b9-a523752b56af",
   "metadata": {},
   "outputs": [],
   "source": [
    "memory = ReplayMemory(10000)"
   ]
  },
  {
   "cell_type": "code",
   "execution_count": 15,
   "id": "95d42b69-0f59-4554-85b1-5a02df67bbff",
   "metadata": {},
   "outputs": [],
   "source": [
    "# https://pytorch.org/tutorials/intermediate/reinforcement_q_learning.html\n",
    "\n",
    "BATCH_SIZE = 32    # Minibatch size\n",
    "GAMMA = 0.99\n",
    "EPS_START = 1\n",
    "EPS_END = 0.1\n",
    "EPS_DECAY = 10000  #LINEARLY OVER TIME?\n",
    "LR = 0.00025 # from paper human action\n",
    "\n",
    "n_actions = env.action_space.n\n",
    "observation = env.reset()\n",
    "\n",
    "n_observations = len(observation[0])\n",
    "\n",
    "policy_net = DQN(363).to(device)\n",
    "target_net = DQN(363).to(device)\n",
    "target_net.load_state_dict(policy_net.state_dict())\n",
    "\n",
    "optimizer1 = optim.AdamW(policy_net.parameters(), lr=LR, amsgrad=True)\n",
    "# Policy van paper is RMSPROP\n",
    "#optimizer = optim.RMSProp(policy_net.parameters(),lr=LR, momentum=0.95,...)\n",
    "\n",
    "\n",
    "memory = ReplayMemory(10000) # Paper Human... has it on 1 000 000\n",
    "\n",
    "steps_done = 0\n",
    "\n",
    "def select_action(state, epsilon):\n",
    "    global steps_done\n",
    "    if random.random() > epsilon:\n",
    "        with torch.no_grad():\n",
    "            return policy_net(state) # tensor([-0.0620,  0.0564,  0.0095, -0.1008, -0.2029,  0.1698,  0.1158, -0.1945]) argmax ofzo hier nog\n",
    "    else:\n",
    "        return torch.tensor([[env.action_space.sample()]], device=device, dtype=torch.long)\n"
   ]
  },
  {
   "cell_type": "code",
   "execution_count": 39,
   "id": "66c5fb04-d426-4d25-828d-f881d57d3798",
   "metadata": {},
   "outputs": [],
   "source": [
    "action = torch.tensor([[env.action_space.sample()]])\n",
    "nObservations, nRewards, nDone, nInfo = env.step(action)"
   ]
  },
  {
   "cell_type": "code",
   "execution_count": 48,
   "id": "a626794e-44bc-4d31-86cb-9946c06df84d",
   "metadata": {},
   "outputs": [
    {
     "name": "stdout",
     "output_type": "stream",
     "text": [
      "action tensor([[7]])\n"
     ]
    },
    {
     "data": {
      "text/plain": [
       "array([[[0.        , 0.        , 0.        ],\n",
       "        [0.        , 0.        , 0.        ],\n",
       "        [0.        , 1.        , 0.        ],\n",
       "        [0.        , 0.        , 0.        ],\n",
       "        [0.        , 1.        , 0.        ],\n",
       "        [0.74901961, 0.74901961, 0.        ],\n",
       "        [0.        , 0.        , 0.        ],\n",
       "        [0.        , 0.        , 0.        ],\n",
       "        [0.        , 0.        , 0.        ],\n",
       "        [0.        , 1.        , 0.        ],\n",
       "        [0.        , 0.        , 0.        ]],\n",
       "\n",
       "       [[0.        , 1.        , 0.        ],\n",
       "        [0.        , 0.        , 0.        ],\n",
       "        [0.        , 1.        , 0.        ],\n",
       "        [0.        , 0.        , 0.        ],\n",
       "        [0.        , 0.        , 0.        ],\n",
       "        [0.74901961, 0.74901961, 0.        ],\n",
       "        [0.        , 1.        , 0.        ],\n",
       "        [0.        , 1.        , 0.        ],\n",
       "        [0.        , 0.        , 0.        ],\n",
       "        [0.        , 0.        , 0.        ],\n",
       "        [0.        , 0.        , 0.        ]],\n",
       "\n",
       "       [[0.        , 0.        , 0.        ],\n",
       "        [0.        , 1.        , 0.        ],\n",
       "        [0.        , 1.        , 0.        ],\n",
       "        [0.        , 1.        , 0.        ],\n",
       "        [0.        , 0.        , 0.        ],\n",
       "        [0.74901961, 0.74901961, 0.        ],\n",
       "        [0.        , 1.        , 0.        ],\n",
       "        [0.        , 0.        , 0.        ],\n",
       "        [0.        , 0.        , 0.        ],\n",
       "        [0.        , 0.        , 0.        ],\n",
       "        [0.        , 0.        , 0.        ]],\n",
       "\n",
       "       [[0.        , 0.        , 0.        ],\n",
       "        [0.        , 1.        , 0.        ],\n",
       "        [0.        , 0.        , 0.        ],\n",
       "        [0.        , 1.        , 0.        ],\n",
       "        [0.        , 1.        , 0.        ],\n",
       "        [0.74901961, 0.74901961, 0.        ],\n",
       "        [0.        , 0.        , 0.        ],\n",
       "        [0.        , 0.        , 0.        ],\n",
       "        [0.        , 0.        , 0.        ],\n",
       "        [0.        , 0.        , 0.        ],\n",
       "        [0.        , 1.        , 0.        ]],\n",
       "\n",
       "       [[0.        , 1.        , 0.        ],\n",
       "        [0.        , 1.        , 0.        ],\n",
       "        [0.        , 1.        , 0.        ],\n",
       "        [0.        , 0.        , 0.        ],\n",
       "        [0.        , 1.        , 0.        ],\n",
       "        [0.74901961, 0.74901961, 0.        ],\n",
       "        [0.        , 0.        , 0.        ],\n",
       "        [0.        , 0.        , 0.        ],\n",
       "        [0.        , 0.        , 0.        ],\n",
       "        [0.        , 1.        , 0.        ],\n",
       "        [0.        , 1.        , 0.        ]],\n",
       "\n",
       "       [[0.        , 0.        , 0.        ],\n",
       "        [0.        , 1.        , 0.        ],\n",
       "        [0.        , 0.        , 0.        ],\n",
       "        [0.        , 1.        , 0.        ],\n",
       "        [0.        , 0.        , 0.        ],\n",
       "        [0.        , 0.        , 1.        ],\n",
       "        [0.        , 0.        , 0.        ],\n",
       "        [0.        , 0.        , 0.        ],\n",
       "        [0.        , 0.        , 0.        ],\n",
       "        [0.        , 0.        , 0.        ],\n",
       "        [0.        , 1.        , 0.        ]],\n",
       "\n",
       "       [[0.        , 0.        , 0.        ],\n",
       "        [0.        , 0.        , 0.        ],\n",
       "        [0.        , 1.        , 0.        ],\n",
       "        [0.        , 1.        , 0.        ],\n",
       "        [0.        , 1.        , 0.        ],\n",
       "        [0.        , 0.        , 0.        ],\n",
       "        [0.        , 0.        , 0.        ],\n",
       "        [0.        , 0.        , 0.        ],\n",
       "        [0.        , 0.        , 0.        ],\n",
       "        [0.        , 0.        , 0.        ],\n",
       "        [0.        , 0.        , 0.        ]],\n",
       "\n",
       "       [[0.        , 1.        , 0.        ],\n",
       "        [0.        , 0.        , 0.        ],\n",
       "        [0.        , 0.        , 0.        ],\n",
       "        [0.        , 1.        , 0.        ],\n",
       "        [0.        , 0.        , 0.        ],\n",
       "        [0.        , 0.        , 0.        ],\n",
       "        [0.        , 0.        , 0.        ],\n",
       "        [0.        , 0.        , 0.        ],\n",
       "        [0.        , 0.        , 0.        ],\n",
       "        [0.        , 0.        , 0.        ],\n",
       "        [0.        , 0.        , 0.        ]],\n",
       "\n",
       "       [[0.        , 0.        , 0.        ],\n",
       "        [0.        , 0.        , 0.        ],\n",
       "        [0.        , 0.        , 0.        ],\n",
       "        [0.        , 0.        , 0.        ],\n",
       "        [0.        , 0.        , 0.        ],\n",
       "        [0.        , 0.        , 0.        ],\n",
       "        [0.        , 0.        , 0.        ],\n",
       "        [0.        , 0.        , 0.        ],\n",
       "        [0.        , 0.        , 0.        ],\n",
       "        [0.        , 0.        , 0.        ],\n",
       "        [0.        , 0.        , 0.        ]],\n",
       "\n",
       "       [[0.        , 0.        , 0.        ],\n",
       "        [0.        , 0.        , 0.        ],\n",
       "        [0.        , 0.        , 0.        ],\n",
       "        [0.        , 0.        , 0.        ],\n",
       "        [0.        , 0.        , 0.        ],\n",
       "        [0.        , 0.        , 0.        ],\n",
       "        [0.        , 0.        , 0.        ],\n",
       "        [0.        , 0.        , 0.        ],\n",
       "        [0.        , 0.        , 0.        ],\n",
       "        [0.        , 0.        , 0.        ],\n",
       "        [0.        , 0.        , 0.        ]],\n",
       "\n",
       "       [[0.70196078, 0.70196078, 0.70196078],\n",
       "        [0.70196078, 0.70196078, 0.70196078],\n",
       "        [0.70196078, 0.70196078, 0.70196078],\n",
       "        [0.70196078, 0.70196078, 0.70196078],\n",
       "        [0.70196078, 0.70196078, 0.70196078],\n",
       "        [0.70196078, 0.70196078, 0.70196078],\n",
       "        [0.70196078, 0.70196078, 0.70196078],\n",
       "        [0.70196078, 0.70196078, 0.70196078],\n",
       "        [0.70196078, 0.70196078, 0.70196078],\n",
       "        [0.70196078, 0.70196078, 0.70196078],\n",
       "        [0.70196078, 0.70196078, 0.70196078]]])"
      ]
     },
     "execution_count": 48,
     "metadata": {},
     "output_type": "execute_result"
    }
   ],
   "source": [
    "print(f\"action {action}\")\n",
    "nObservations[0]"
   ]
  },
  {
   "cell_type": "code",
   "execution_count": null,
   "id": "d37e63f9-b0b3-4f08-9b22-7c66be5a7e6d",
   "metadata": {},
   "outputs": [],
   "source": [
    "def ReplayMemory"
   ]
  },
  {
   "cell_type": "code",
   "execution_count": 32,
   "id": "b43d53f0-d49d-48be-9e72-fd086de44921",
   "metadata": {},
   "outputs": [
    {
     "ename": "ValueError",
     "evalue": "Sample larger than population or is negative",
     "output_type": "error",
     "traceback": [
      "\u001b[0;31m---------------------------------------------------------------------------\u001b[0m",
      "\u001b[0;31mValueError\u001b[0m                                Traceback (most recent call last)",
      "Cell \u001b[0;32mIn[32], line 1\u001b[0m\n\u001b[0;32m----> 1\u001b[0m \u001b[43mmemory\u001b[49m\u001b[38;5;241;43m.\u001b[39;49m\u001b[43msample\u001b[49m\u001b[43m(\u001b[49m\u001b[38;5;241;43m4\u001b[39;49m\u001b[43m)\u001b[49m\n",
      "Cell \u001b[0;32mIn[3], line 14\u001b[0m, in \u001b[0;36mReplayMemory.sample\u001b[0;34m(self, batch_size)\u001b[0m\n\u001b[1;32m     13\u001b[0m \u001b[38;5;28;01mdef\u001b[39;00m \u001b[38;5;21msample\u001b[39m(\u001b[38;5;28mself\u001b[39m, batch_size):\n\u001b[0;32m---> 14\u001b[0m     \u001b[38;5;28;01mreturn\u001b[39;00m \u001b[43mrandom\u001b[49m\u001b[38;5;241;43m.\u001b[39;49m\u001b[43msample\u001b[49m\u001b[43m(\u001b[49m\u001b[38;5;28;43mself\u001b[39;49m\u001b[38;5;241;43m.\u001b[39;49m\u001b[43mmemory\u001b[49m\u001b[43m,\u001b[49m\u001b[43m \u001b[49m\u001b[43mbatch_size\u001b[49m\u001b[43m)\u001b[49m\n",
      "File \u001b[0;32m~/anaconda3/envs/final/lib/python3.8/random.py:363\u001b[0m, in \u001b[0;36mRandom.sample\u001b[0;34m(self, population, k)\u001b[0m\n\u001b[1;32m    361\u001b[0m n \u001b[38;5;241m=\u001b[39m \u001b[38;5;28mlen\u001b[39m(population)\n\u001b[1;32m    362\u001b[0m \u001b[38;5;28;01mif\u001b[39;00m \u001b[38;5;129;01mnot\u001b[39;00m \u001b[38;5;241m0\u001b[39m \u001b[38;5;241m<\u001b[39m\u001b[38;5;241m=\u001b[39m k \u001b[38;5;241m<\u001b[39m\u001b[38;5;241m=\u001b[39m n:\n\u001b[0;32m--> 363\u001b[0m     \u001b[38;5;28;01mraise\u001b[39;00m \u001b[38;5;167;01mValueError\u001b[39;00m(\u001b[38;5;124m\"\u001b[39m\u001b[38;5;124mSample larger than population or is negative\u001b[39m\u001b[38;5;124m\"\u001b[39m)\n\u001b[1;32m    364\u001b[0m result \u001b[38;5;241m=\u001b[39m [\u001b[38;5;28;01mNone\u001b[39;00m] \u001b[38;5;241m*\u001b[39m k\n\u001b[1;32m    365\u001b[0m setsize \u001b[38;5;241m=\u001b[39m \u001b[38;5;241m21\u001b[39m        \u001b[38;5;66;03m# size of a small set minus size of an empty list\u001b[39;00m\n",
      "\u001b[0;31mValueError\u001b[0m: Sample larger than population or is negative"
     ]
    }
   ],
   "source": [
    "# TRAINING\n",
    "total_steps = 0\n",
    "episode = 0\n",
    "\n",
    "nStates = env.reset()\n",
    "while total_step < training_steps\n",
    "    \n",
    "    state_agent0 = torch.tensor(nStates[0], dtype=torch.float32, device=device).unsqueeze(0)\n",
    "    flatten_state = torch.flatten(state_agent0)\n",
    "\n",
    "    epsilon = 1\n",
    "\n",
    "    action = select_action(flatten_state, epsilon)\n",
    "    next_state, reward, done, info = env.step(action)\n",
    "    episode_score += reward[0]\n",
    "    # memory = ('state', 'action', 'next_state', 'reward'))\n",
    "    memory.push(nStates[0], action, next_state[0], reward[0])\n",
    "    nStates = next_state\n",
    "\n",
    "    \n",
    "    if (total_step % update_frequency == 0):\n",
    "        "
   ]
  },
  {
   "cell_type": "code",
   "execution_count": 53,
   "id": "d1d636cb-66ac-4492-be0b-c522b62bf95d",
   "metadata": {},
   "outputs": [
    {
     "data": {
      "text/plain": [
       "8"
      ]
     },
     "execution_count": 53,
     "metadata": {},
     "output_type": "execute_result"
    }
   ],
   "source": [
    "n_actions"
   ]
  },
  {
   "cell_type": "code",
   "execution_count": 9,
   "id": "ee612c92-2ad5-495a-ae66-5d204c756c67",
   "metadata": {},
   "outputs": [],
   "source": [
    "obs = env.reset()\n",
    "state = torch.tensor(obs[0], dtype=torch.float32, device=device).unsqueeze(0)"
   ]
  },
  {
   "cell_type": "code",
   "execution_count": 10,
   "id": "56841ab8-dd49-446e-bf8f-2477095397d4",
   "metadata": {},
   "outputs": [],
   "source": [
    "flatten_state = torch.flatten(state)"
   ]
  },
  {
   "cell_type": "code",
   "execution_count": 16,
   "id": "5369198f-6c75-49b5-8fb1-8ad90c7790ff",
   "metadata": {},
   "outputs": [
    {
     "data": {
      "text/plain": [
       "torch.Size([363])"
      ]
     },
     "execution_count": 16,
     "metadata": {},
     "output_type": "execute_result"
    }
   ],
   "source": [
    "flatten_state.shape"
   ]
  },
  {
   "cell_type": "code",
   "execution_count": 24,
   "id": "8d19e811-613f-49dc-acae-92ee349939a6",
   "metadata": {},
   "outputs": [],
   "source": [
    "act = policy_net(flatten_state)"
   ]
  },
  {
   "cell_type": "code",
   "execution_count": 25,
   "id": "ad476344-c0ad-4438-a494-97fd55c93c6f",
   "metadata": {},
   "outputs": [
    {
     "data": {
      "text/plain": [
       "tensor([-0.0620,  0.0564,  0.0095, -0.1008, -0.2029,  0.1698,  0.1158, -0.1945],\n",
       "       grad_fn=<ViewBackward0>)"
      ]
     },
     "execution_count": 25,
     "metadata": {},
     "output_type": "execute_result"
    }
   ],
   "source": [
    "act"
   ]
  },
  {
   "cell_type": "code",
   "execution_count": 23,
   "id": "66c71d29-8662-403f-86ba-7d92ceb5b12d",
   "metadata": {},
   "outputs": [
    {
     "ename": "AttributeError",
     "evalue": "'Tensor' object has no attribute 'tonumpy'",
     "output_type": "error",
     "traceback": [
      "\u001b[0;31m---------------------------------------------------------------------------\u001b[0m",
      "\u001b[0;31mAttributeError\u001b[0m                            Traceback (most recent call last)",
      "Cell \u001b[0;32mIn[23], line 1\u001b[0m\n\u001b[0;32m----> 1\u001b[0m np\u001b[38;5;241m.\u001b[39margmax(\u001b[43mpolicy_net\u001b[49m\u001b[43m(\u001b[49m\u001b[43mflatten_state\u001b[49m\u001b[43m)\u001b[49m\u001b[38;5;241;43m.\u001b[39;49m\u001b[43mtonumpy\u001b[49m())\n",
      "\u001b[0;31mAttributeError\u001b[0m: 'Tensor' object has no attribute 'tonumpy'"
     ]
    }
   ],
   "source": [
    "np.argmax(policy_net(flatten_state)"
   ]
  },
  {
   "cell_type": "code",
   "execution_count": 18,
   "id": "82b923ca-e458-4b9c-b0a1-b4a495825b83",
   "metadata": {},
   "outputs": [
    {
     "data": {
      "text/plain": [
       "tensor([-0.0620,  0.0564,  0.0095, -0.1008, -0.2029,  0.1698,  0.1158, -0.1945],\n",
       "       grad_fn=<ViewBackward0>)"
      ]
     },
     "execution_count": 18,
     "metadata": {},
     "output_type": "execute_result"
    }
   ],
   "source": [
    "act"
   ]
  },
  {
   "cell_type": "code",
   "execution_count": 41,
   "id": "e83ba3e5-6548-454e-97a6-638bedc7bb7f",
   "metadata": {},
   "outputs": [
    {
     "data": {
      "image/png": "[encoded data removed]",
      "text/plain": [
       "<Figure size 640x480 with 1 Axes>"
      ]
     },
     "metadata": {},
     "output_type": "display_data"
    }
   ],
   "source": [
    "epsilon_S = 1.0\n",
    "epsilon_E = 0.1\n",
    "epsilon_decay = 100000\n",
    "\n",
    "_epsilon = lambda frame: epsilon_E + (epsilon_S - epsilon_E)*np.exp(-frame/epsilon_decay)\n",
    "plt.plot([_epsilon(frame) for frame in range(1000000)]);"
   ]
  },
  {
   "cell_type": "code",
   "execution_count": 36,
   "id": "648e4c1e-1e5c-405c-8e9e-0d6b47806244",
   "metadata": {},
   "outputs": [],
   "source": [
    "def optimize_model():\n",
    "    if len(memory) < BATCH_SIZE:\n",
    "        return\n",
    "    transitions = memory.sample(BATCH_SIZE)\n",
    "    # Transpose the batch (see https://stackoverflow.com/a/19343/3343043 for\n",
    "    # detailed explanation). This converts batch-array of Transitions\n",
    "    # to Transition of batch-arrays.\n",
    "    batch = Transition(*zip(*transitions))\n",
    "\n",
    "    # Compute a mask of non-final states and concatenate the batch elements\n",
    "    # (a final state would've been the one after which simulation ended)\n",
    "    non_final_mask = torch.tensor(tuple(map(lambda s: s is not None,\n",
    "                                          batch.next_state)), device=device, dtype=torch.bool)\n",
    "    non_final_next_states = torch.cat([s for s in batch.next_state\n",
    "                                                if s is not None])\n",
    "    state_batch = torch.cat(batch.state)\n",
    "    action_batch = torch.cat(batch.action)\n",
    "    reward_batch = torch.cat(batch.reward)\n",
    "\n",
    "    # Compute Q(s_t, a) - the model computes Q(s_t), then we select the\n",
    "    # columns of actions taken. These are the actions which would've been taken\n",
    "    # for each batch state according to policy_net\n",
    "    state_action_values = policy_net(state_batch).gather(1, action_batch)\n",
    "\n",
    "    # Compute V(s_{t+1}) for all next states.\n",
    "    # Expected values of actions for non_final_next_states are computed based\n",
    "    # on the \"older\" target_net; selecting their best reward with max(1).values\n",
    "    # This is merged based on the mask, such that we'll have either the expected\n",
    "    # state value or 0 in case the state was final.\n",
    "    next_state_values = torch.zeros(BATCH_SIZE, device=device)\n",
    "    with torch.no_grad():\n",
    "        next_state_values[non_final_mask] = target_net(non_final_next_states).max(1).values\n",
    "    # Compute the expected Q values\n",
    "    expected_state_action_values = (next_state_values * GAMMA) + reward_batch\n",
    "\n",
    "    # Compute Huber loss\n",
    "    criterion = nn.SmoothL1Loss()\n",
    "    loss = criterion(state_action_values, expected_state_action_values.unsqueeze(1))\n",
    "\n",
    "    # Optimize the model\n",
    "    optimizer.zero_grad()\n",
    "    loss.backward()\n",
    "    # In-place gradient clipping\n",
    "    torch.nn.utils.clip_grad_value_(policy_net.parameters(), 100)\n",
    "    optimizer.step()"
   ]
  },
  {
   "cell_type": "code",
   "execution_count": 37,
   "id": "ce1eaf75-635a-4721-b8fb-2182fb80b18c",
   "metadata": {},
   "outputs": [
    {
     "ename": "NameError",
     "evalue": "name 'eps' is not defined",
     "output_type": "error",
     "traceback": [
      "\u001b[0;31m---------------------------------------------------------------------------\u001b[0m",
      "\u001b[0;31mNameError\u001b[0m                                 Traceback (most recent call last)",
      "Cell \u001b[0;32mIn[37], line 11\u001b[0m\n\u001b[1;32m      9\u001b[0m state \u001b[38;5;241m=\u001b[39m torch\u001b[38;5;241m.\u001b[39mtensor(state[\u001b[38;5;241m0\u001b[39m], dtype\u001b[38;5;241m=\u001b[39mtorch\u001b[38;5;241m.\u001b[39mfloat32, device\u001b[38;5;241m=\u001b[39mdevice)\u001b[38;5;241m.\u001b[39munsqueeze(\u001b[38;5;241m0\u001b[39m)\n\u001b[1;32m     10\u001b[0m \u001b[38;5;28;01mfor\u001b[39;00m t \u001b[38;5;129;01min\u001b[39;00m count():\n\u001b[0;32m---> 11\u001b[0m     action \u001b[38;5;241m=\u001b[39m \u001b[43mselect_action\u001b[49m\u001b[43m(\u001b[49m\u001b[43mstate\u001b[49m\u001b[43m)\u001b[49m\n\u001b[1;32m     12\u001b[0m     observation, reward, terminated, truncated, _ \u001b[38;5;241m=\u001b[39m env\u001b[38;5;241m.\u001b[39mstep(action\u001b[38;5;241m.\u001b[39mitem())\n\u001b[1;32m     13\u001b[0m     reward \u001b[38;5;241m=\u001b[39m torch\u001b[38;5;241m.\u001b[39mtensor([reward], device\u001b[38;5;241m=\u001b[39mdevice)\n",
      "Cell \u001b[0;32mIn[35], line 27\u001b[0m, in \u001b[0;36mselect_action\u001b[0;34m(state)\u001b[0m\n\u001b[1;32m     24\u001b[0m eps_threshold \u001b[38;5;241m=\u001b[39m EPS_END \u001b[38;5;241m+\u001b[39m (EPS_START \u001b[38;5;241m-\u001b[39m EPS_END) \u001b[38;5;241m*\u001b[39m \\\n\u001b[1;32m     25\u001b[0m     math\u001b[38;5;241m.\u001b[39mexp(\u001b[38;5;241m-\u001b[39m\u001b[38;5;241m1.\u001b[39m \u001b[38;5;241m*\u001b[39m steps_done \u001b[38;5;241m/\u001b[39m EPS_DECAY)\n\u001b[1;32m     26\u001b[0m steps_done \u001b[38;5;241m+\u001b[39m\u001b[38;5;241m=\u001b[39m \u001b[38;5;241m1\u001b[39m\n\u001b[0;32m---> 27\u001b[0m \u001b[38;5;28;01mif\u001b[39;00m sample \u001b[38;5;241m>\u001b[39m \u001b[43meps\u001b[49m\u001b[38;5;241m.\u001b[39mthreshold:\n\u001b[1;32m     28\u001b[0m     \u001b[38;5;28;01mwith\u001b[39;00m torch\u001b[38;5;241m.\u001b[39mno_grad():\n\u001b[1;32m     29\u001b[0m         \u001b[38;5;28;01mreturn\u001b[39;00m policy_net(state)\u001b[38;5;241m.\u001b[39mmax(\u001b[38;5;241m1\u001b[39m)\u001b[38;5;241m.\u001b[39mindices\u001b[38;5;241m.\u001b[39mview(\u001b[38;5;241m1\u001b[39m,\u001b[38;5;241m1\u001b[39m)\n",
      "\u001b[0;31mNameError\u001b[0m: name 'eps' is not defined"
     ]
    }
   ],
   "source": [
    "if torch.cuda.is_available():\n",
    "    num_episodes = 600\n",
    "else:\n",
    "    num_episodes = 50\n",
    "\n",
    "for i_episode in range(num_episodes):\n",
    "    # Initialize the environment and get it's state\n",
    "    state = env.reset()\n",
    "    state = torch.tensor(state[0], dtype=torch.float32, device=device).unsqueeze(0)\n",
    "    for t in count():\n",
    "        action = select_action(state)\n",
    "        observation, reward, terminated, truncated, _ = env.step(action.item())\n",
    "        reward = torch.tensor([reward], device=device)\n",
    "        done = terminated or truncated\n",
    "\n",
    "        if terminated:\n",
    "            next_state = None\n",
    "        else:\n",
    "            next_state = torch.tensor(observation, dtype=torch.float32, device=device).unsqueeze(0)\n",
    "\n",
    "        # Store the transition in memory\n",
    "        memory.push(state, action, next_state, reward)\n",
    "\n",
    "        # Move to the next state\n",
    "        state = next_state\n",
    "\n",
    "        # Perform one step of the optimization (on the policy network)\n",
    "        optimize_model()\n",
    "\n",
    "        # Soft update of the target network's weights\n",
    "        # θ′ ← τ θ + (1 −τ )θ′\n",
    "        target_net_state_dict = target_net.state_dict()\n",
    "        policy_net_state_dict = policy_net.state_dict()\n",
    "        for key in policy_net_state_dict:\n",
    "            target_net_state_dict[key] = policy_net_state_dict[key]*TAU + target_net_state_dict[key]*(1-TAU)\n",
    "        target_net.load_state_dict(target_net_state_dict)\n",
    "\n",
    "        if done:\n",
    "            episode_durations.append(t + 1)\n",
    "            plot_durations()\n",
    "            break\n",
    "\n",
    "print('Complete')\n",
    "plot_durations(show_result=True)\n",
    "plt.ioff()\n",
    "plt.show()"
   ]
  },
  {
   "cell_type": "code",
   "execution_count": null,
   "id": "b04572da-a4c1-459b-973d-e9bc2a87210b",
   "metadata": {},
   "outputs": [],
   "source": []
  },
  {
   "cell_type": "code",
   "execution_count": 30,
   "id": "c6ddbd1f-3c17-47ce-a55e-691243506f63",
   "metadata": {},
   "outputs": [
    {
     "data": {
      "text/plain": [
       "tensor([[5]])"
      ]
     },
     "execution_count": 30,
     "metadata": {},
     "output_type": "execute_result"
    }
   ],
   "source": [
    "torch.tensor([[env.action_space.sample()]], device=device, dtype=torch.long)"
   ]
  },
  {
   "cell_type": "code",
   "execution_count": 25,
   "id": "ca04669c-3b75-4b07-ad85-9c0a1f0a008f",
   "metadata": {},
   "outputs": [
    {
     "data": {
      "text/plain": [
       "array([[[0.70196078, 0.70196078, 0.70196078],\n",
       "        [0.70196078, 0.70196078, 0.70196078],\n",
       "        [0.70196078, 0.70196078, 0.70196078],\n",
       "        [0.70196078, 0.70196078, 0.70196078],\n",
       "        [0.70196078, 0.70196078, 0.70196078],\n",
       "        [0.70196078, 0.70196078, 0.70196078],\n",
       "        [0.70196078, 0.70196078, 0.70196078],\n",
       "        [0.70196078, 0.70196078, 0.70196078],\n",
       "        [0.70196078, 0.70196078, 0.70196078]],\n",
       "\n",
       "       [[0.70196078, 0.70196078, 0.70196078],\n",
       "        [0.70196078, 0.70196078, 0.70196078],\n",
       "        [0.70196078, 0.70196078, 0.70196078],\n",
       "        [0.70196078, 0.70196078, 0.70196078],\n",
       "        [0.70196078, 0.70196078, 0.70196078],\n",
       "        [0.70196078, 0.70196078, 0.70196078],\n",
       "        [0.70196078, 0.70196078, 0.70196078],\n",
       "        [0.70196078, 0.70196078, 0.70196078],\n",
       "        [0.70196078, 0.70196078, 0.70196078]],\n",
       "\n",
       "       [[0.70196078, 0.70196078, 0.70196078],\n",
       "        [0.70196078, 0.70196078, 0.70196078],\n",
       "        [0.70196078, 0.70196078, 0.70196078],\n",
       "        [0.70196078, 0.70196078, 0.70196078],\n",
       "        [0.70196078, 0.70196078, 0.70196078],\n",
       "        [0.70196078, 0.70196078, 0.70196078],\n",
       "        [0.70196078, 0.70196078, 0.70196078],\n",
       "        [0.70196078, 0.70196078, 0.70196078],\n",
       "        [0.70196078, 0.70196078, 0.70196078]],\n",
       "\n",
       "       [[0.70196078, 0.70196078, 0.70196078],\n",
       "        [0.70196078, 0.70196078, 0.70196078],\n",
       "        [0.70196078, 0.70196078, 0.70196078],\n",
       "        [0.70196078, 0.70196078, 0.70196078],\n",
       "        [0.70196078, 0.70196078, 0.70196078],\n",
       "        [0.70196078, 0.70196078, 0.70196078],\n",
       "        [0.70196078, 0.70196078, 0.70196078],\n",
       "        [0.70196078, 0.70196078, 0.70196078],\n",
       "        [0.70196078, 0.70196078, 0.70196078]],\n",
       "\n",
       "       [[0.        , 0.        , 0.        ],\n",
       "        [0.        , 0.        , 0.        ],\n",
       "        [0.        , 0.        , 0.        ],\n",
       "        [0.2       , 0.2       , 0.2       ],\n",
       "        [0.        , 0.        , 1.        ],\n",
       "        [0.        , 0.        , 0.        ],\n",
       "        [0.        , 0.        , 0.        ],\n",
       "        [0.        , 0.        , 0.        ],\n",
       "        [0.        , 0.        , 0.        ]],\n",
       "\n",
       "       [[0.        , 0.        , 0.        ],\n",
       "        [0.        , 1.        , 0.        ],\n",
       "        [0.        , 0.        , 0.        ],\n",
       "        [0.        , 0.        , 0.        ],\n",
       "        [0.        , 0.        , 0.        ],\n",
       "        [0.        , 0.        , 0.        ],\n",
       "        [0.        , 0.        , 0.        ],\n",
       "        [0.        , 0.        , 0.        ],\n",
       "        [0.        , 1.        , 0.        ]],\n",
       "\n",
       "       [[0.        , 0.        , 0.        ],\n",
       "        [0.        , 1.        , 0.        ],\n",
       "        [0.        , 1.        , 0.        ],\n",
       "        [0.        , 0.        , 0.        ],\n",
       "        [0.        , 0.        , 0.        ],\n",
       "        [0.        , 0.        , 0.        ],\n",
       "        [0.        , 0.        , 0.        ],\n",
       "        [0.        , 0.        , 0.        ],\n",
       "        [0.        , 0.        , 0.        ]],\n",
       "\n",
       "       [[0.        , 0.        , 0.        ],\n",
       "        [0.        , 1.        , 0.        ],\n",
       "        [0.        , 1.        , 0.        ],\n",
       "        [0.        , 1.        , 0.        ],\n",
       "        [0.        , 0.        , 0.        ],\n",
       "        [0.        , 0.        , 0.        ],\n",
       "        [0.        , 0.        , 0.        ],\n",
       "        [0.        , 0.        , 0.        ],\n",
       "        [0.        , 1.        , 0.        ]],\n",
       "\n",
       "       [[0.        , 0.        , 0.        ],\n",
       "        [0.        , 0.        , 0.        ],\n",
       "        [0.        , 1.        , 0.        ],\n",
       "        [0.        , 0.        , 0.        ],\n",
       "        [0.        , 0.        , 0.        ],\n",
       "        [0.        , 1.        , 0.        ],\n",
       "        [0.        , 0.        , 0.        ],\n",
       "        [0.        , 1.        , 0.        ],\n",
       "        [0.        , 1.        , 0.        ]]])"
      ]
     },
     "execution_count": 25,
     "metadata": {},
     "output_type": "execute_result"
    }
   ],
   "source": [
    "nObs[0]"
   ]
  },
  {
   "cell_type": "markdown",
   "id": "2d579c18-321c-4187-bc9e-2cc69415cccb",
   "metadata": {},
   "source": [
    "### Human Level Control ###\n",
    "Hier even iets anders geprobeerd maar zit nu even in between both of hier op verder of op vorige, of combinatie\n",
    "https://github.com/jihoonerd/Human-level-control-through-deep-reinforcement-learning/blob/master/dqn/agent/dqn_agent.py"
   ]
  },
  {
   "cell_type": "code",
   "execution_count": null,
   "id": "cff4f02a-75fb-4d53-a3e5-59a324b6d114",
   "metadata": {},
   "outputs": [],
   "source": [
    "def get_action(state, epsilon):\n",
    "    if random.random() < epsilon:\n",
    "        q_value = policy_net(state).max(1)\n",
    "        return policy_net(state).max(1).indices.view(1,1)\n",
    "    else:\n",
    "        return torch.tensor([[env.action_space.sample()]], device=device, dtype=torch.long)"
   ]
  },
  {
   "cell_type": "code",
   "execution_count": null,
   "id": "fe49e748-cbf8-41dd-b7f0-92c74ee8b47d",
   "metadata": {},
   "outputs": [],
   "source": [
    "class Agent:\n",
    "    def __init__(self, env=\"CommonsGame:CommonsGame-v0\"):\n",
    "        self.game_id = env\n",
    "        self.env = Environment(self.game_id, train=True)\n",
    "        self.discount_factor = 0.99\n",
    "        self.minibatch_size = 32\n",
    "        self.update_frequency = 4\n",
    "        self.target_network_update_freq = 1000\n",
    "        self.agent_history_length = 4\n",
    "        self.memory = ReplayMemory(capacity=10000, minibatch_size=self.minibatch_size)\n",
    "        self.main_network = DQN(num_actions=self.env.get_action_space_size(), hidden_size=32, output_size=8)\n",
    "        self.target_network = DQN(num_actions=self.env.get_action_space_size(), hidden_size=32, output_size=8)\n",
    "        self.optimizer = optimizer\n",
    "        self.init_epsilon = 1.0\n",
    "        self.final_epsilon = 0.1\n",
    "        self.final_explr_frame = 1000000 # nog bepalen\n",
    "        self.replay_start_size = 10000 # nog geen idee wat dit is\n",
    "        self.loss = tf.keras.losses.Huber()\n",
    "        self.loss_metric = tf.keras.metrics.Mean(name=\"loss\")\n",
    "        self.q_metric = tf.keras.metrics.Mean(name=\"Q_value\")\n",
    "        self.training_frames = int(1e7)\n",
    "        self.log_path = \"./log/\" + datetime.now().strftime(\"%Y%m%d_%H%M%S\") + \"_\" + self.game_id\n",
    "        self.summary_writer = tf.summary.create_file_writer(self.log_path + \"/summary/\")\n",
    "        self.life_game = None\n",
    "        self.print_log_interval = 10\n",
    "        self.save_weight_interval = 10\n",
    "\n",
    "        self.env.reset()\n",
    "        _, _, _, info = self.env.step(0)\n",
    "        if info[\"ale.lives\"] > 0:\n",
    "            self.life_game = True\n",
    "        else:\n",
    "            self.life_game = False   \n",
    "    "
   ]
  }
 ],
 "metadata": {
  "kernelspec": {
   "display_name": "Python 3 (ipykernel)",
   "language": "python",
   "name": "python3"
  },
  "language_info": {
   "codemirror_mode": {
    "name": "ipython",
    "version": 3
   },
   "file_extension": ".py",
   "mimetype": "text/x-python",
   "name": "python",
   "nbconvert_exporter": "python",
   "pygments_lexer": "ipython3",
   "version": "3.8.18"
  }
 },
 "nbformat": 4,
 "nbformat_minor": 5
}
